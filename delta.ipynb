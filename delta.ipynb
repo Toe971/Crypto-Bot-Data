{
 "metadata": {
  "language_info": {
   "codemirror_mode": {
    "name": "ipython",
    "version": 3
   },
   "file_extension": ".py",
   "mimetype": "text/x-python",
   "name": "python",
   "nbconvert_exporter": "python",
   "pygments_lexer": "ipython3",
   "version": "3.8.5-final"
  },
  "orig_nbformat": 2,
  "kernelspec": {
   "name": "python3",
   "display_name": "Python 3.8.5 64-bit",
   "metadata": {
    "interpreter": {
     "hash": "31f2aee4e71d21fbe5cf8b01ff0e069b9275f58929596ceb00d14d90e3e16cd6"
    }
   }
  }
 },
 "nbformat": 4,
 "nbformat_minor": 2,
 "cells": [
  {
   "cell_type": "code",
   "execution_count": 8,
   "metadata": {},
   "outputs": [],
   "source": [
    "# need to install pandas and matplotlib first"
   ]
  },
  {
   "cell_type": "code",
   "execution_count": 9,
   "metadata": {},
   "outputs": [],
   "source": [
    "import pandas as pd\n",
    "import matplotlib.pyplot as plt\n",
    "\n"
   ]
  },
  {
   "cell_type": "code",
   "execution_count": 10,
   "metadata": {},
   "outputs": [
    {
     "output_type": "stream",
     "name": "stdout",
     "text": [
      "               Date          Chat Name  Creator        Exchanges      Symbol  \\\n0  01/03/2021 13:59  #Delta 15 staging      NaN  Binance Futures    AXS/USDT   \n1  01/03/2021 13:59  #Delta 15 staging      NaN  Binance Futures   YFII/USDT   \n2  01/03/2021 13:59  #Delta 15 staging      NaN  Binance Futures  ALPHA/USDT   \n3  01/03/2021 13:59  #Delta 15 staging      NaN  Binance Futures    TRB/USDT   \n4  01/03/2021 13:20  #Delta 15 staging      NaN  Binance Futures   AVAX/USDT   \n5  01/03/2021 13:16  #Delta 15 staging      NaN  Binance Futures   AAVE/USDT   \n6  01/03/2021 13:15  #Delta 15 staging      NaN  Binance Futures   RUNE/USDT   \n7  01/03/2021 13:15  #Delta 15 staging      NaN  Binance Futures    UNI/USDT   \n8  01/03/2021 13:07  #Delta 15 staging      NaN  Binance Futures   COMP/USDT   \n9  01/03/2021 13:03  #Delta 15 staging      NaN  Binance Futures    BLZ/USDT   \n\n      Status         Leverage Direction  Last Target  Signal Gained Profit %  \n0  Cancelled  Isolated (5.0X)     Short            0                  0.0000  \n1  Cancelled  Isolated (5.0X)     Short            0                  0.0000  \n2  Cancelled  Isolated (5.0X)     Short            0                  0.0000  \n3  Cancelled  Isolated (5.0X)     Short            0                  0.0000  \n4  Cancelled  Isolated (5.0X)      Long            0                -12.9595  \n5  Cancelled  Isolated (5.0X)      Long            0                -10.2365  \n6  Cancelled  Isolated (5.0X)      Long            0                 -8.5435  \n7  Cancelled  Isolated (5.0X)      Long            0                 -9.2215  \n8  Cancelled  Isolated (5.0X)      Long            0                 -7.4290  \n9  Cancelled  Isolated (5.0X)      Long            0                 -9.5825  \n"
     ]
    }
   ],
   "source": [
    "df = pd.read_csv(\"delta.csv\")\n",
    "print(df.head(10))"
   ]
  },
  {
   "cell_type": "code",
   "execution_count": 13,
   "metadata": {},
   "outputs": [
    {
     "output_type": "stream",
     "name": "stdout",
     "text": [
      "                Date          Chat Name        Exchanges     Symbol  \\\n23  01/03/2021 12:04  #Delta 15 staging  Binance Futures   CRV/USDT   \n30  01/03/2021 11:46  #Delta 15 staging  Binance Futures   AXS/USDT   \n37  01/03/2021 11:30  #Delta 15 staging  Binance Futures   BEL/USDT   \n53  01/03/2021 08:24  #Delta 15 staging  Binance Futures  BAND/USDT   \n54  01/03/2021 08:21  #Delta 15 staging  Binance Futures   YFI/USDT   \n\n                      Status         Leverage Direction  Last Target  \\\n23  Partial Targets Achieved  Isolated (5.0X)      Long            3   \n30  Partial Targets Achieved  Isolated (5.0X)      Long            2   \n37               Stopped Out  Isolated (5.0X)     Short            0   \n53  Partial Targets Achieved  Isolated (5.0X)      Long            3   \n54  Partial Targets Achieved  Isolated (5.0X)      Long            3   \n\n    Signal Gained Profit %  \n23                 11.9537  \n30                  3.5009  \n37                -15.5910  \n53                 10.0009  \n54                  9.9998  \n"
     ]
    }
   ],
   "source": [
    "\"\"\"Data Cleaning: Remove unnecessary data. However for cancelled, might be of use in the future, but take it out for now\"\"\"\n",
    "refined_df = df[(df[\"Status\"] != \"Cancelled\")] \\\n",
    "    .drop(columns=\"Creator\")\n",
    "print(refined_df.head())"
   ]
  },
  {
   "cell_type": "code",
   "execution_count": null,
   "metadata": {},
   "outputs": [],
   "source": []
  }
 ]
}